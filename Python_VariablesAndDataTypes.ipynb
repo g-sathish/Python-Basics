{
  "nbformat": 4,
  "nbformat_minor": 0,
  "metadata": {
    "colab": {
      "name": "Python-VariablesAndDataTypes.ipynb",
      "provenance": [],
      "include_colab_link": true
    },
    "kernelspec": {
      "name": "python3",
      "display_name": "Python 3"
    }
  },
  "cells": [
    {
      "cell_type": "markdown",
      "metadata": {
        "id": "view-in-github",
        "colab_type": "text"
      },
      "source": [
        "<a href=\"https://colab.research.google.com/github/g-sathish/Python-Basics/blob/master/Python_VariablesAndDataTypes.ipynb\" target=\"_parent\"><img src=\"https://colab.research.google.com/assets/colab-badge.svg\" alt=\"Open In Colab\"/></a>"
      ]
    },
    {
      "cell_type": "markdown",
      "metadata": {
        "id": "OyeqHPd05OEa",
        "colab_type": "text"
      },
      "source": [
        "\n",
        "> Python Basics - 31.08.2019\n",
        "\n",
        "*   What is Python?\n",
        "*   What is a Python Interpreter?\n",
        "*   Memory - RAM & Memory Representation - Bits & Bytes\n",
        "*   What is a variable?\n",
        "*   What is a data type? \n",
        "*   What are the different data types in Python?\n",
        "*   How to create a variable and store a value in it?\n",
        "*   Expressions - Doing Arithmetic Operations with Variables\n",
        "*   Operators - Arithmetic Operators()+, -, / , %, *, //, Relational Operators(<, <=, >, >=, ==, !=), Logical Operators(and, or , not), Bitwise Operators(&, |, ^, >>, <<), Exponent Operator (**)\n",
        "*   What is a function?\n",
        "*   Types of functions - library functions - len(), print (), factorial() & user-defined functions\n",
        "*   Data Structures   \n",
        "     * Strings - Create a string, Indexing, length of the string using len()\n",
        "\n",
        "\n",
        "\n"
      ]
    },
    {
      "cell_type": "markdown",
      "metadata": {
        "id": "CHgu411mRCxD",
        "colab_type": "text"
      },
      "source": [
        "Python is a programming language. Python is a high-level language with large libraries & packages making way for a wide range of computer applications.   \n",
        "\n",
        "Programming language is a human understandable language used to communicate with the machines.\n",
        "\n",
        "Python Interpreter is a program, which can be used for line by line execution of a python code."
      ]
    },
    {
      "cell_type": "markdown",
      "metadata": {
        "id": "3lfTK2-y8pEz",
        "colab_type": "text"
      },
      "source": [
        "Any application that has to be executed will be copied to RAM memory.   \n",
        "\n",
        "RAM means Random Access Memory, a votatile type of memory.     \n",
        "\n",
        "\n",
        "Each byte has an address in the memory.   \n",
        "\n",
        "1 byte = 8 bits   "
      ]
    },
    {
      "cell_type": "markdown",
      "metadata": {
        "id": "T5ljcJEK9Qtc",
        "colab_type": "text"
      },
      "source": [
        "1. Create a variable 'a' and assign a value of 5"
      ]
    },
    {
      "cell_type": "code",
      "metadata": {
        "id": "OIy6GnbX9Uwz",
        "colab_type": "code",
        "colab": {}
      },
      "source": [
        "a = 5"
      ],
      "execution_count": 0,
      "outputs": []
    },
    {
      "cell_type": "markdown",
      "metadata": {
        "id": "hOuCbcEb9bhy",
        "colab_type": "text"
      },
      "source": [
        "2. Print the value of a"
      ]
    },
    {
      "cell_type": "code",
      "metadata": {
        "id": "AkmhSPZg9XxC",
        "colab_type": "code",
        "outputId": "9c30dc4e-f80d-4dc1-9029-5aab46faab11",
        "colab": {
          "base_uri": "https://localhost:8080/",
          "height": 34
        }
      },
      "source": [
        "# outputs the value to the console\n",
        "print(a)"
      ],
      "execution_count": 0,
      "outputs": [
        {
          "output_type": "stream",
          "text": [
            "5\n"
          ],
          "name": "stdout"
        }
      ]
    },
    {
      "cell_type": "markdown",
      "metadata": {
        "id": "giGmZEtP9hKC",
        "colab_type": "text"
      },
      "source": [
        "3. Binary representation of 5"
      ]
    },
    {
      "cell_type": "markdown",
      "metadata": {
        "id": "jJXVWur09qWT",
        "colab_type": "text"
      },
      "source": [
        "let us assume the address of variable a as 600. (normally address is represented as a hexadecimal value).\n",
        "\n",
        "```\n",
        "Binary bits (8 bits per byte)\n",
        "\n",
        "00000000   00000000   00000000   00000101   \n",
        "\n",
        "Byte Address   \n",
        "  600         601        602         603\n",
        "```\n",
        "\n"
      ]
    },
    {
      "cell_type": "markdown",
      "metadata": {
        "id": "t2t5BXxK-tpp",
        "colab_type": "text"
      },
      "source": [
        "4. Check the type of variable a"
      ]
    },
    {
      "cell_type": "code",
      "metadata": {
        "id": "AFJW5X3_9f9K",
        "colab_type": "code",
        "outputId": "bd3fd80e-4a1e-4538-b36f-059be2b905d0",
        "colab": {
          "base_uri": "https://localhost:8080/",
          "height": 34
        }
      },
      "source": [
        "type(a)"
      ],
      "execution_count": 0,
      "outputs": [
        {
          "output_type": "execute_result",
          "data": {
            "text/plain": [
              "int"
            ]
          },
          "metadata": {
            "tags": []
          },
          "execution_count": 3
        }
      ]
    },
    {
      "cell_type": "markdown",
      "metadata": {
        "id": "LCUtBTlG-0rp",
        "colab_type": "text"
      },
      "source": [
        "5. Re-assign variable a with a float value (example: 5.678)"
      ]
    },
    {
      "cell_type": "code",
      "metadata": {
        "id": "BXehiNNV9e5E",
        "colab_type": "code",
        "colab": {}
      },
      "source": [
        "a = 5.678"
      ],
      "execution_count": 0,
      "outputs": []
    },
    {
      "cell_type": "markdown",
      "metadata": {
        "id": "YngR3GD2_Akf",
        "colab_type": "text"
      },
      "source": [
        "6. Check the type of variable a"
      ]
    },
    {
      "cell_type": "code",
      "metadata": {
        "id": "Tnp4HgH2-_mi",
        "colab_type": "code",
        "outputId": "eb3e7931-7f0d-4d33-e07f-addcdee8b2d2",
        "colab": {
          "base_uri": "https://localhost:8080/",
          "height": 34
        }
      },
      "source": [
        "type(a)"
      ],
      "execution_count": 0,
      "outputs": [
        {
          "output_type": "execute_result",
          "data": {
            "text/plain": [
              "float"
            ]
          },
          "metadata": {
            "tags": []
          },
          "execution_count": 5
        }
      ]
    },
    {
      "cell_type": "markdown",
      "metadata": {
        "id": "pFHSPh7C_Fe7",
        "colab_type": "text"
      },
      "source": [
        "Notice that the type of a have changed. The type of a variable depends on the type of value that is been assigned to the variable in Python.\n"
      ]
    },
    {
      "cell_type": "markdown",
      "metadata": {
        "id": "qmn1Xq49_YwG",
        "colab_type": "text"
      },
      "source": [
        "7.Un-used or un-declared variables throws an error. Example: check the value of variable 'b'"
      ]
    },
    {
      "cell_type": "code",
      "metadata": {
        "id": "CJWiz1DY_EbC",
        "colab_type": "code",
        "outputId": "d5fe23fa-f604-42c9-fc46-22384970b1c0",
        "colab": {
          "base_uri": "https://localhost:8080/",
          "height": 167
        }
      },
      "source": [
        "b"
      ],
      "execution_count": 0,
      "outputs": [
        {
          "output_type": "error",
          "ename": "NameError",
          "evalue": "ignored",
          "traceback": [
            "\u001b[0;31m---------------------------------------------------------------------------\u001b[0m",
            "\u001b[0;31mNameError\u001b[0m                                 Traceback (most recent call last)",
            "\u001b[0;32m<ipython-input-6-89e6c98d9288>\u001b[0m in \u001b[0;36m<module>\u001b[0;34m()\u001b[0m\n\u001b[0;32m----> 1\u001b[0;31m \u001b[0mb\u001b[0m\u001b[0;34m\u001b[0m\u001b[0;34m\u001b[0m\u001b[0m\n\u001b[0m",
            "\u001b[0;31mNameError\u001b[0m: name 'b' is not defined"
          ]
        }
      ]
    },
    {
      "cell_type": "markdown",
      "metadata": {
        "id": "_VFgtRlN_lPf",
        "colab_type": "text"
      },
      "source": [
        "8. Store a string value in variable 'b' (Example: b = 'python').    \n",
        "Check the value of 'b'.    \n",
        "Check the type of variable 'b'."
      ]
    },
    {
      "cell_type": "code",
      "metadata": {
        "id": "bM-RfdET_jFg",
        "colab_type": "code",
        "outputId": "d3b7aa97-f80f-4e5c-90c7-0fc94f0255bc",
        "colab": {
          "base_uri": "https://localhost:8080/",
          "height": 52
        }
      },
      "source": [
        "b = 'python'\n",
        "print(b)\n",
        "type(b)"
      ],
      "execution_count": 0,
      "outputs": [
        {
          "output_type": "stream",
          "text": [
            "python\n"
          ],
          "name": "stdout"
        },
        {
          "output_type": "execute_result",
          "data": {
            "text/plain": [
              "str"
            ]
          },
          "metadata": {
            "tags": []
          },
          "execution_count": 8
        }
      ]
    },
    {
      "cell_type": "markdown",
      "metadata": {
        "id": "UnxPASsyAFpP",
        "colab_type": "text"
      },
      "source": [
        "9. Assign a boolean value to variable 'c' (Example: c = True)   \n",
        "Check the value of 'c'   \n",
        "Check the type of variable 'c'"
      ]
    },
    {
      "cell_type": "code",
      "metadata": {
        "id": "afjS71LZ_1WF",
        "colab_type": "code",
        "outputId": "6724c7d0-3af3-453e-b0aa-3fd03ff32be5",
        "colab": {
          "base_uri": "https://localhost:8080/",
          "height": 52
        }
      },
      "source": [
        "c = True\n",
        "print(c)\n",
        "type(c)"
      ],
      "execution_count": 0,
      "outputs": [
        {
          "output_type": "stream",
          "text": [
            "True\n"
          ],
          "name": "stdout"
        },
        {
          "output_type": "execute_result",
          "data": {
            "text/plain": [
              "bool"
            ]
          },
          "metadata": {
            "tags": []
          },
          "execution_count": 9
        }
      ]
    },
    {
      "cell_type": "markdown",
      "metadata": {
        "id": "D246uHNqAacL",
        "colab_type": "text"
      },
      "source": [
        "10. Expressions:    \n",
        "Assign a value of 5 to variable 'a'   \n",
        "Assign a value of 10 to variable 'b'   \n",
        "Find the sum of variables 'a' & 'b'"
      ]
    },
    {
      "cell_type": "code",
      "metadata": {
        "id": "72_fRMuVAZWB",
        "colab_type": "code",
        "outputId": "531e3962-65ab-4849-d125-8333d658c67f",
        "colab": {
          "base_uri": "https://localhost:8080/",
          "height": 34
        }
      },
      "source": [
        "a = 5\n",
        "b = 10\n",
        "print(a+b)"
      ],
      "execution_count": 0,
      "outputs": [
        {
          "output_type": "stream",
          "text": [
            "15\n"
          ],
          "name": "stdout"
        }
      ]
    },
    {
      "cell_type": "markdown",
      "metadata": {
        "id": "oHSPmEfwApkm",
        "colab_type": "text"
      },
      "source": [
        "11. Finding the remainder of a division"
      ]
    },
    {
      "cell_type": "code",
      "metadata": {
        "id": "5-l6z5QTAoZ_",
        "colab_type": "code",
        "outputId": "a7dda5c6-4264-44b1-a265-d7e4dce1c0d9",
        "colab": {
          "base_uri": "https://localhost:8080/",
          "height": 34
        }
      },
      "source": [
        "5%3"
      ],
      "execution_count": 0,
      "outputs": [
        {
          "output_type": "execute_result",
          "data": {
            "text/plain": [
              "2"
            ]
          },
          "metadata": {
            "tags": []
          },
          "execution_count": 11
        }
      ]
    },
    {
      "cell_type": "markdown",
      "metadata": {
        "id": "N0oZiAAjA3MX",
        "colab_type": "text"
      },
      "source": [
        "12. Integer division"
      ]
    },
    {
      "cell_type": "code",
      "metadata": {
        "id": "XCPtVmZ-A0b9",
        "colab_type": "code",
        "outputId": "1b1b843d-959a-4c2d-ce4e-2929d73a0a12",
        "colab": {
          "base_uri": "https://localhost:8080/",
          "height": 34
        }
      },
      "source": [
        "5//3"
      ],
      "execution_count": 0,
      "outputs": [
        {
          "output_type": "execute_result",
          "data": {
            "text/plain": [
              "1"
            ]
          },
          "metadata": {
            "tags": []
          },
          "execution_count": 12
        }
      ]
    },
    {
      "cell_type": "markdown",
      "metadata": {
        "id": "5bNQi191A7Kl",
        "colab_type": "text"
      },
      "source": [
        "13. Exponent Operator (**)"
      ]
    },
    {
      "cell_type": "code",
      "metadata": {
        "id": "o-2XW9OHBKla",
        "colab_type": "code",
        "outputId": "0b6a1a5f-690a-4659-a680-f5bdb5af4e46",
        "colab": {
          "base_uri": "https://localhost:8080/",
          "height": 34
        }
      },
      "source": [
        "2 ** 3"
      ],
      "execution_count": 0,
      "outputs": [
        {
          "output_type": "execute_result",
          "data": {
            "text/plain": [
              "8"
            ]
          },
          "metadata": {
            "tags": []
          },
          "execution_count": 18
        }
      ]
    },
    {
      "cell_type": "markdown",
      "metadata": {
        "id": "qdtpViOtBJGU",
        "colab_type": "text"
      },
      "source": [
        "14. Relational Operators"
      ]
    },
    {
      "cell_type": "markdown",
      "metadata": {
        "id": "utGB4XfPBSZD",
        "colab_type": "text"
      },
      "source": [
        "Less than operator (<)"
      ]
    },
    {
      "cell_type": "code",
      "metadata": {
        "id": "VkmAGTcNBLty",
        "colab_type": "code",
        "outputId": "02a461cf-44b9-48c5-fa6a-a0d47d2d71dd",
        "colab": {
          "base_uri": "https://localhost:8080/",
          "height": 34
        }
      },
      "source": [
        "5<3"
      ],
      "execution_count": 0,
      "outputs": [
        {
          "output_type": "execute_result",
          "data": {
            "text/plain": [
              "False"
            ]
          },
          "metadata": {
            "tags": []
          },
          "execution_count": 19
        }
      ]
    },
    {
      "cell_type": "markdown",
      "metadata": {
        "id": "Ul5OwK7vBVpw",
        "colab_type": "text"
      },
      "source": [
        "Greater than operator (>)"
      ]
    },
    {
      "cell_type": "code",
      "metadata": {
        "id": "H8INaguRBXb-",
        "colab_type": "code",
        "outputId": "7fa4bdc7-cd85-425b-edd4-967d95ce75f6",
        "colab": {
          "base_uri": "https://localhost:8080/",
          "height": 34
        }
      },
      "source": [
        "5>3"
      ],
      "execution_count": 0,
      "outputs": [
        {
          "output_type": "execute_result",
          "data": {
            "text/plain": [
              "True"
            ]
          },
          "metadata": {
            "tags": []
          },
          "execution_count": 20
        }
      ]
    },
    {
      "cell_type": "markdown",
      "metadata": {
        "id": "YrrJ4YV6BYD5",
        "colab_type": "text"
      },
      "source": [
        "Less than or equal to (<=)"
      ]
    },
    {
      "cell_type": "code",
      "metadata": {
        "id": "K-OnxrMfBbyp",
        "colab_type": "code",
        "outputId": "7c9fa292-75f9-42c0-966b-e023dacbe676",
        "colab": {
          "base_uri": "https://localhost:8080/",
          "height": 34
        }
      },
      "source": [
        "5<5"
      ],
      "execution_count": 0,
      "outputs": [
        {
          "output_type": "execute_result",
          "data": {
            "text/plain": [
              "False"
            ]
          },
          "metadata": {
            "tags": []
          },
          "execution_count": 21
        }
      ]
    },
    {
      "cell_type": "markdown",
      "metadata": {
        "id": "EcImjpSFBcgv",
        "colab_type": "text"
      },
      "source": [
        "Greater than or equal to(>=)"
      ]
    },
    {
      "cell_type": "code",
      "metadata": {
        "id": "dpTok4GIBeN3",
        "colab_type": "code",
        "outputId": "8707428b-57c0-4a34-ce84-dd4fc3fb572e",
        "colab": {
          "base_uri": "https://localhost:8080/",
          "height": 34
        }
      },
      "source": [
        "5>=5"
      ],
      "execution_count": 0,
      "outputs": [
        {
          "output_type": "execute_result",
          "data": {
            "text/plain": [
              "True"
            ]
          },
          "metadata": {
            "tags": []
          },
          "execution_count": 22
        }
      ]
    },
    {
      "cell_type": "markdown",
      "metadata": {
        "id": "tBKBFOtbBe4-",
        "colab_type": "text"
      },
      "source": [
        "Comparison - Equal to (==)"
      ]
    },
    {
      "cell_type": "code",
      "metadata": {
        "id": "9xY10EgvBir2",
        "colab_type": "code",
        "outputId": "bffb561a-301b-43cd-eb38-e1e4c582ac26",
        "colab": {
          "base_uri": "https://localhost:8080/",
          "height": 34
        }
      },
      "source": [
        "5==5"
      ],
      "execution_count": 0,
      "outputs": [
        {
          "output_type": "execute_result",
          "data": {
            "text/plain": [
              "True"
            ]
          },
          "metadata": {
            "tags": []
          },
          "execution_count": 23
        }
      ]
    },
    {
      "cell_type": "markdown",
      "metadata": {
        "id": "Yty9K1hvBjOZ",
        "colab_type": "text"
      },
      "source": [
        "Not Equal to(!=)"
      ]
    },
    {
      "cell_type": "code",
      "metadata": {
        "id": "3hJAH_iRBkp1",
        "colab_type": "code",
        "outputId": "69d63604-d3a2-4eca-d15b-9819fdcc0013",
        "colab": {
          "base_uri": "https://localhost:8080/",
          "height": 34
        }
      },
      "source": [
        "5!=5"
      ],
      "execution_count": 0,
      "outputs": [
        {
          "output_type": "execute_result",
          "data": {
            "text/plain": [
              "False"
            ]
          },
          "metadata": {
            "tags": []
          },
          "execution_count": 24
        }
      ]
    },
    {
      "cell_type": "markdown",
      "metadata": {
        "id": "9BLVe3yyBlNN",
        "colab_type": "text"
      },
      "source": [
        "15. Logical operators"
      ]
    },
    {
      "cell_type": "markdown",
      "metadata": {
        "id": "y0NoCLFtBo_Z",
        "colab_type": "text"
      },
      "source": [
        "`and` operator"
      ]
    },
    {
      "cell_type": "code",
      "metadata": {
        "id": "9abWOWkJBxHe",
        "colab_type": "code",
        "outputId": "9c65ced6-fe94-43f9-a666-47142d4c775c",
        "colab": {
          "base_uri": "https://localhost:8080/",
          "height": 34
        }
      },
      "source": [
        "5>3 and 5==5"
      ],
      "execution_count": 0,
      "outputs": [
        {
          "output_type": "execute_result",
          "data": {
            "text/plain": [
              "True"
            ]
          },
          "metadata": {
            "tags": []
          },
          "execution_count": 25
        }
      ]
    },
    {
      "cell_type": "markdown",
      "metadata": {
        "id": "q_VViqNuBxpx",
        "colab_type": "text"
      },
      "source": [
        "or operator"
      ]
    },
    {
      "cell_type": "code",
      "metadata": {
        "id": "0TixDU_yBy2U",
        "colab_type": "code",
        "outputId": "d70431bf-0293-4fc6-a0be-3be0ffee584e",
        "colab": {
          "base_uri": "https://localhost:8080/",
          "height": 34
        }
      },
      "source": [
        "5!=5 or 5>3"
      ],
      "execution_count": 0,
      "outputs": [
        {
          "output_type": "execute_result",
          "data": {
            "text/plain": [
              "True"
            ]
          },
          "metadata": {
            "tags": []
          },
          "execution_count": 26
        }
      ]
    },
    {
      "cell_type": "markdown",
      "metadata": {
        "id": "lz7MKKP1Bze5",
        "colab_type": "text"
      },
      "source": [
        "not operator"
      ]
    },
    {
      "cell_type": "code",
      "metadata": {
        "id": "7TJIjD_BB0-R",
        "colab_type": "code",
        "outputId": "99c7b3f3-77b5-476d-f9cd-f39e5079c736",
        "colab": {
          "base_uri": "https://localhost:8080/",
          "height": 34
        }
      },
      "source": [
        "not 5!=5"
      ],
      "execution_count": 0,
      "outputs": [
        {
          "output_type": "execute_result",
          "data": {
            "text/plain": [
              "True"
            ]
          },
          "metadata": {
            "tags": []
          },
          "execution_count": 27
        }
      ]
    },
    {
      "cell_type": "markdown",
      "metadata": {
        "id": "Cxm5U2UDB1wV",
        "colab_type": "text"
      },
      "source": [
        "16. Bitwise operator"
      ]
    },
    {
      "cell_type": "markdown",
      "metadata": {
        "id": "sQqx7Ot1B7A6",
        "colab_type": "text"
      },
      "source": [
        "Bitwise and operator"
      ]
    },
    {
      "cell_type": "code",
      "metadata": {
        "id": "I-q-EPDeB3rm",
        "colab_type": "code",
        "outputId": "f5be3db2-0b5f-43bc-8e63-d57ce04a02cc",
        "colab": {
          "base_uri": "https://localhost:8080/",
          "height": 34
        }
      },
      "source": [
        "5 & 3"
      ],
      "execution_count": 0,
      "outputs": [
        {
          "output_type": "execute_result",
          "data": {
            "text/plain": [
              "1"
            ]
          },
          "metadata": {
            "tags": []
          },
          "execution_count": 28
        }
      ]
    },
    {
      "cell_type": "markdown",
      "metadata": {
        "id": "cGKV6dS3B99N",
        "colab_type": "text"
      },
      "source": [
        "17. Operator **precedence**"
      ]
    },
    {
      "cell_type": "code",
      "metadata": {
        "id": "KZe8nJTfCCrZ",
        "colab_type": "code",
        "outputId": "270c80cf-d52f-4f9d-84ad-7d671adbbfb9",
        "colab": {
          "base_uri": "https://localhost:8080/",
          "height": 34
        }
      },
      "source": [
        "5 + 10 - 6 * 4 / 2"
      ],
      "execution_count": 0,
      "outputs": [
        {
          "output_type": "execute_result",
          "data": {
            "text/plain": [
              "3.0"
            ]
          },
          "metadata": {
            "tags": []
          },
          "execution_count": 29
        }
      ]
    },
    {
      "cell_type": "markdown",
      "metadata": {
        "id": "ujQJT5zPCFhk",
        "colab_type": "text"
      },
      "source": [
        "18. Functions - library functions"
      ]
    },
    {
      "cell_type": "markdown",
      "metadata": {
        "id": "JsJt5ZwJCPhF",
        "colab_type": "text"
      },
      "source": [
        "len() function"
      ]
    },
    {
      "cell_type": "code",
      "metadata": {
        "id": "0JEN488iCOBn",
        "colab_type": "code",
        "outputId": "23316fe5-78de-41e8-bfa9-e17f38be0efe",
        "colab": {
          "base_uri": "https://localhost:8080/",
          "height": 34
        }
      },
      "source": [
        "# creating a string\n",
        "s = 'python'\n",
        "# printing the length of the string\n",
        "len(s)"
      ],
      "execution_count": 0,
      "outputs": [
        {
          "output_type": "execute_result",
          "data": {
            "text/plain": [
              "6"
            ]
          },
          "metadata": {
            "tags": []
          },
          "execution_count": 14
        }
      ]
    },
    {
      "cell_type": "markdown",
      "metadata": {
        "id": "T8qPMf9SCf2N",
        "colab_type": "text"
      },
      "source": [
        "print() function"
      ]
    },
    {
      "cell_type": "code",
      "metadata": {
        "id": "fr65gdx0CiIj",
        "colab_type": "code",
        "outputId": "6cea3c70-5f9f-4505-9275-ab873be5666a",
        "colab": {
          "base_uri": "https://localhost:8080/",
          "height": 34
        }
      },
      "source": [
        "print(\"This printed to the console!!\")"
      ],
      "execution_count": 0,
      "outputs": [
        {
          "output_type": "stream",
          "text": [
            "This printed to the console!!\n"
          ],
          "name": "stdout"
        }
      ]
    },
    {
      "cell_type": "markdown",
      "metadata": {
        "id": "wxXpADMOCm5R",
        "colab_type": "text"
      },
      "source": [
        "type() function"
      ]
    },
    {
      "cell_type": "code",
      "metadata": {
        "id": "ie13Q8kGCpdm",
        "colab_type": "code",
        "outputId": "a4f1a711-d006-4bdc-aa62-7d5f46f2c3ab",
        "colab": {
          "base_uri": "https://localhost:8080/",
          "height": 34
        }
      },
      "source": [
        "# to get the type or class of variable\n",
        "type(s)"
      ],
      "execution_count": 0,
      "outputs": [
        {
          "output_type": "execute_result",
          "data": {
            "text/plain": [
              "str"
            ]
          },
          "metadata": {
            "tags": []
          },
          "execution_count": 16
        }
      ]
    },
    {
      "cell_type": "markdown",
      "metadata": {
        "id": "CKVS6nVeC0ko",
        "colab_type": "text"
      },
      "source": [
        "factorial() function"
      ]
    },
    {
      "cell_type": "code",
      "metadata": {
        "id": "_FSsBr0uCvyU",
        "colab_type": "code",
        "outputId": "4aab7da3-f882-4e61-840e-22c3e9892239",
        "colab": {
          "base_uri": "https://localhost:8080/",
          "height": 34
        }
      },
      "source": [
        "from math import factorial\n",
        "factorial(5)"
      ],
      "execution_count": 0,
      "outputs": [
        {
          "output_type": "execute_result",
          "data": {
            "text/plain": [
              "120"
            ]
          },
          "metadata": {
            "tags": []
          },
          "execution_count": 17
        }
      ]
    },
    {
      "cell_type": "markdown",
      "metadata": {
        "id": "7tm9yxlWC9yg",
        "colab_type": "text"
      },
      "source": [
        "19. Data structures - Strings"
      ]
    },
    {
      "cell_type": "markdown",
      "metadata": {
        "id": "z7_e5jotDMw3",
        "colab_type": "text"
      },
      "source": [
        "Create a string"
      ]
    },
    {
      "cell_type": "code",
      "metadata": {
        "id": "lb1w2UftDHzy",
        "colab_type": "code",
        "colab": {}
      },
      "source": [
        "s = 'python'"
      ],
      "execution_count": 0,
      "outputs": []
    },
    {
      "cell_type": "markdown",
      "metadata": {
        "id": "qsaN0p7sDOcB",
        "colab_type": "text"
      },
      "source": [
        "Print the first character of the string"
      ]
    },
    {
      "cell_type": "code",
      "metadata": {
        "id": "2AG0sGVbDRo8",
        "colab_type": "code",
        "outputId": "13b76b73-b1cc-4687-a839-75737f0dbfed",
        "colab": {
          "base_uri": "https://localhost:8080/",
          "height": 34
        }
      },
      "source": [
        "s[0]"
      ],
      "execution_count": 0,
      "outputs": [
        {
          "output_type": "execute_result",
          "data": {
            "text/plain": [
              "'p'"
            ]
          },
          "metadata": {
            "tags": []
          },
          "execution_count": 9
        }
      ]
    },
    {
      "cell_type": "markdown",
      "metadata": {
        "id": "KwqadOUFDSrv",
        "colab_type": "text"
      },
      "source": [
        "Printing the last character of the string"
      ]
    },
    {
      "cell_type": "code",
      "metadata": {
        "id": "BCnUEBuTDVNL",
        "colab_type": "code",
        "outputId": "c7e9e750-f930-4e9c-a20a-3e854c4f1ba3",
        "colab": {
          "base_uri": "https://localhost:8080/",
          "height": 34
        }
      },
      "source": [
        "# you can use reverse indexing in python\n",
        "s[-1]"
      ],
      "execution_count": 0,
      "outputs": [
        {
          "output_type": "execute_result",
          "data": {
            "text/plain": [
              "'n'"
            ]
          },
          "metadata": {
            "tags": []
          },
          "execution_count": 10
        }
      ]
    },
    {
      "cell_type": "code",
      "metadata": {
        "id": "hZ9jB3BTDXQe",
        "colab_type": "code",
        "outputId": "6b036624-a281-4a7b-b296-7af5411acfa6",
        "colab": {
          "base_uri": "https://localhost:8080/",
          "height": 34
        }
      },
      "source": [
        "# or you can use len(s)-1 to find the last index of the string value\n",
        "s[len(s)-1]"
      ],
      "execution_count": 0,
      "outputs": [
        {
          "output_type": "execute_result",
          "data": {
            "text/plain": [
              "'n'"
            ]
          },
          "metadata": {
            "tags": []
          },
          "execution_count": 11
        }
      ]
    },
    {
      "cell_type": "markdown",
      "metadata": {
        "id": "dJi-ADR0frwc",
        "colab_type": "text"
      },
      "source": [
        "**String Reverse**"
      ]
    },
    {
      "cell_type": "code",
      "metadata": {
        "id": "hHPxtEXTfwlk",
        "colab_type": "code",
        "colab": {}
      },
      "source": [
        "s = 'this is a python class'"
      ],
      "execution_count": 0,
      "outputs": []
    },
    {
      "cell_type": "code",
      "metadata": {
        "id": "eAIeAGmegCDG",
        "colab_type": "code",
        "outputId": "4773650f-d804-4040-a41d-7f1a44849086",
        "colab": {
          "base_uri": "https://localhost:8080/",
          "height": 34
        }
      },
      "source": [
        "# loop - to execute a statement multiple times\n",
        "# for each loop\n",
        "for val in s:\n",
        "  print(val, end = '')\n"
      ],
      "execution_count": 0,
      "outputs": [
        {
          "output_type": "stream",
          "text": [
            "this is a python class"
          ],
          "name": "stdout"
        }
      ]
    },
    {
      "cell_type": "code",
      "metadata": {
        "id": "eRaptiD0gekB",
        "colab_type": "code",
        "outputId": "27e7d3fe-cc56-4968-8737-56a8eb85b82a",
        "colab": {
          "base_uri": "https://localhost:8080/",
          "height": 34
        }
      },
      "source": [
        "for i in range(0,len(s),2):\n",
        "  print(i, end = ' ')"
      ],
      "execution_count": 0,
      "outputs": [
        {
          "output_type": "stream",
          "text": [
            "0 2 4 6 8 10 12 14 16 18 20 "
          ],
          "name": "stdout"
        }
      ]
    },
    {
      "cell_type": "code",
      "metadata": {
        "id": "Wv7aEjjLikDO",
        "colab_type": "code",
        "outputId": "c4e4cd53-fadb-4204-95b9-749672e8f0b0",
        "colab": {
          "base_uri": "https://localhost:8080/",
          "height": 34
        }
      },
      "source": [
        "len(s)"
      ],
      "execution_count": 0,
      "outputs": [
        {
          "output_type": "execute_result",
          "data": {
            "text/plain": [
              "22"
            ]
          },
          "metadata": {
            "tags": []
          },
          "execution_count": 22
        }
      ]
    },
    {
      "cell_type": "code",
      "metadata": {
        "id": "AT8hFe3mimlh",
        "colab_type": "code",
        "outputId": "c845d708-5e0c-41a4-92a7-5ce74b765af1",
        "colab": {
          "base_uri": "https://localhost:8080/",
          "height": 34
        }
      },
      "source": [
        "for i in range(0, len(s), 2):\n",
        "  print(s[i], end='')"
      ],
      "execution_count": 0,
      "outputs": [
        {
          "output_type": "stream",
          "text": [
            "ti sapto ls"
          ],
          "name": "stdout"
        }
      ]
    },
    {
      "cell_type": "code",
      "metadata": {
        "id": "GYOHsA49jrrW",
        "colab_type": "code",
        "outputId": "94ecfb38-d963-45e1-fa83-d645f64658a0",
        "colab": {
          "base_uri": "https://localhost:8080/",
          "height": 34
        }
      },
      "source": [
        "for i in range(len(s)-1,-1,-1):\n",
        "  print(s[i], end='')"
      ],
      "execution_count": 0,
      "outputs": [
        {
          "output_type": "stream",
          "text": [
            "ssalc nohtyp a si siht"
          ],
          "name": "stdout"
        }
      ]
    },
    {
      "cell_type": "markdown",
      "metadata": {
        "id": "cjL_I2wGu9Fg",
        "colab_type": "text"
      },
      "source": [
        "**Class Dated : 1.11.19**"
      ]
    },
    {
      "cell_type": "markdown",
      "metadata": {
        "id": "4jjYSZt2vGka",
        "colab_type": "text"
      },
      "source": [
        "Context Setting:\n",
        "\n",
        "\n",
        "1.   How to create a string\n",
        "2.   How indexing works in a string\n",
        "3.   How to traverse a string\n",
        "4.   Using string libraries for string manipulation\n",
        "\n"
      ]
    },
    {
      "cell_type": "code",
      "metadata": {
        "id": "Llx9zFjekiPh",
        "colab_type": "code",
        "colab": {}
      },
      "source": [
        "# creating a string\n",
        "s = 'i am learning python'"
      ],
      "execution_count": 0,
      "outputs": []
    },
    {
      "cell_type": "code",
      "metadata": {
        "id": "56YZdZ0-wO-N",
        "colab_type": "code",
        "colab": {
          "base_uri": "https://localhost:8080/",
          "height": 34
        },
        "outputId": "6ad1d3ed-b8ca-4e2d-8865-6b33888cf29f"
      },
      "source": [
        "# checking the type of variable 's'\n",
        "type(s)"
      ],
      "execution_count": 4,
      "outputs": [
        {
          "output_type": "execute_result",
          "data": {
            "text/plain": [
              "str"
            ]
          },
          "metadata": {
            "tags": []
          },
          "execution_count": 4
        }
      ]
    },
    {
      "cell_type": "code",
      "metadata": {
        "id": "_EU0ZhJhv5C_",
        "colab_type": "code",
        "colab": {
          "base_uri": "https://localhost:8080/",
          "height": 34
        },
        "outputId": "246af110-b058-4816-8b10-9a56732323c1"
      },
      "source": [
        "# to print the string directly to the console\n",
        "print(s)"
      ],
      "execution_count": 5,
      "outputs": [
        {
          "output_type": "stream",
          "text": [
            "i am learning python\n"
          ],
          "name": "stdout"
        }
      ]
    },
    {
      "cell_type": "code",
      "metadata": {
        "id": "EnwAbntzv8iY",
        "colab_type": "code",
        "colab": {
          "base_uri": "https://localhost:8080/",
          "height": 34
        },
        "outputId": "eb2a40ba-5558-4f95-db2e-9736f21e682c"
      },
      "source": [
        "# to access the first character of a string\n",
        "print(s[0])"
      ],
      "execution_count": 3,
      "outputs": [
        {
          "output_type": "stream",
          "text": [
            "i\n"
          ],
          "name": "stdout"
        }
      ]
    },
    {
      "cell_type": "code",
      "metadata": {
        "id": "U6V1aPluwHPe",
        "colab_type": "code",
        "colab": {
          "base_uri": "https://localhost:8080/",
          "height": 34
        },
        "outputId": "11754744-e6de-430f-b5d6-3cb4366abdb9"
      },
      "source": [
        "# to find the length of the string\n",
        "len(s)"
      ],
      "execution_count": 6,
      "outputs": [
        {
          "output_type": "execute_result",
          "data": {
            "text/plain": [
              "20"
            ]
          },
          "metadata": {
            "tags": []
          },
          "execution_count": 6
        }
      ]
    },
    {
      "cell_type": "code",
      "metadata": {
        "id": "wKqw1OsLwckE",
        "colab_type": "code",
        "colab": {}
      },
      "source": [
        "# string with numbers\n",
        "s = 'I am learning python 24/7'"
      ],
      "execution_count": 0,
      "outputs": []
    },
    {
      "cell_type": "code",
      "metadata": {
        "id": "_gvqYpxrwmYA",
        "colab_type": "code",
        "colab": {
          "base_uri": "https://localhost:8080/",
          "height": 34
        },
        "outputId": "bd15c464-5059-4c2f-eaf7-3b3ad89e08d2"
      },
      "source": [
        "# length of the string\n",
        "len(s)"
      ],
      "execution_count": 8,
      "outputs": [
        {
          "output_type": "execute_result",
          "data": {
            "text/plain": [
              "25"
            ]
          },
          "metadata": {
            "tags": []
          },
          "execution_count": 8
        }
      ]
    },
    {
      "cell_type": "code",
      "metadata": {
        "id": "ULoTeIJ-woti",
        "colab_type": "code",
        "colab": {
          "base_uri": "https://localhost:8080/",
          "height": 34
        },
        "outputId": "6beda6b0-3880-410c-fa7b-323a4f6eb5a2"
      },
      "source": [
        "# first index is 0, successive indices takes 1,2, 3, ....\n",
        "# indexing works from last but starts with -1, -2, -3, ...\n",
        "# accessing the last character of the string 's'\n",
        "print(s[-1])"
      ],
      "execution_count": 9,
      "outputs": [
        {
          "output_type": "stream",
          "text": [
            "7\n"
          ],
          "name": "stdout"
        }
      ]
    },
    {
      "cell_type": "code",
      "metadata": {
        "id": "sUUsKXRew9Vy",
        "colab_type": "code",
        "colab": {
          "base_uri": "https://localhost:8080/",
          "height": 34
        },
        "outputId": "1308eb7e-8fb9-4add-9787-0aa8edc44536"
      },
      "source": [
        "# second way of accessing last character of a string\n",
        "print(s[len(s)-1])"
      ],
      "execution_count": 10,
      "outputs": [
        {
          "output_type": "stream",
          "text": [
            "7\n"
          ],
          "name": "stdout"
        }
      ]
    },
    {
      "cell_type": "code",
      "metadata": {
        "id": "7D_gRqstxKUp",
        "colab_type": "code",
        "colab": {}
      },
      "source": [
        "# the general rule to access a nth character will be s[n-1]\n",
        "# loops makes traversing better\n"
      ],
      "execution_count": 0,
      "outputs": []
    },
    {
      "cell_type": "markdown",
      "metadata": {
        "id": "3MVVhW_YyPcG",
        "colab_type": "text"
      },
      "source": [
        "Loops??\n",
        "\n",
        "A piece of code which gets executed as long as the condition is satisfied."
      ]
    },
    {
      "cell_type": "code",
      "metadata": {
        "id": "nKvA4aOVya6C",
        "colab_type": "code",
        "colab": {
          "base_uri": "https://localhost:8080/",
          "height": 191
        },
        "outputId": "f188be5d-fa49-486a-9334-699ebbe33698"
      },
      "source": [
        "# s[i] where i = 0, 1, 2, 3, .....len(s)-1\n",
        "for i in range(0,10):\n",
        "  # for every execution of the loop, i takes a value from 0 through 9 (inclusive)\n",
        "  print(i)"
      ],
      "execution_count": 11,
      "outputs": [
        {
          "output_type": "stream",
          "text": [
            "0\n",
            "1\n",
            "2\n",
            "3\n",
            "4\n",
            "5\n",
            "6\n",
            "7\n",
            "8\n",
            "9\n"
          ],
          "name": "stdout"
        }
      ]
    },
    {
      "cell_type": "code",
      "metadata": {
        "id": "A668gMRZzRkc",
        "colab_type": "code",
        "colab": {
          "base_uri": "https://localhost:8080/",
          "height": 34
        },
        "outputId": "4508cc0b-c329-4764-89bf-06688d94e4df"
      },
      "source": [
        "# calculating the sum of first 10 natural numbers\n",
        "sum = 0\n",
        "for i in range(1,11):\n",
        "  sum = sum + i\n",
        "\n",
        "# printing sum value only once\n",
        "print(sum)"
      ],
      "execution_count": 15,
      "outputs": [
        {
          "output_type": "stream",
          "text": [
            "55\n"
          ],
          "name": "stdout"
        }
      ]
    },
    {
      "cell_type": "code",
      "metadata": {
        "id": "vrFcJVwuzw1J",
        "colab_type": "code",
        "colab": {
          "base_uri": "https://localhost:8080/",
          "height": 191
        },
        "outputId": "4b2fd463-68e5-4636-c75c-a134841823cd"
      },
      "source": [
        "# calculating the sum of first 10 natural numbers\n",
        "sum = 0\n",
        "for i in range(1,11):\n",
        "  sum = sum + i\n",
        "\n",
        "  # printing intermediate sum\n",
        "  print(sum)"
      ],
      "execution_count": 16,
      "outputs": [
        {
          "output_type": "stream",
          "text": [
            "1\n",
            "3\n",
            "6\n",
            "10\n",
            "15\n",
            "21\n",
            "28\n",
            "36\n",
            "45\n",
            "55\n"
          ],
          "name": "stdout"
        }
      ]
    },
    {
      "cell_type": "code",
      "metadata": {
        "id": "B2Ml3zV10PQs",
        "colab_type": "code",
        "colab": {
          "base_uri": "https://localhost:8080/",
          "height": 34
        },
        "outputId": "8cc20ee4-727b-4be0-b2c0-5827f9e333a1"
      },
      "source": [
        "# same problem solved using while loop\n",
        "# difference lies only with the syntax\n",
        "sum = 0\n",
        "i = 1\n",
        "while i<=10:\n",
        "  sum = sum + i\n",
        "  # after every execution, increment i\n",
        "  i = i + 1\n",
        "\n",
        "# print the value of sum\n",
        "print(sum)"
      ],
      "execution_count": 17,
      "outputs": [
        {
          "output_type": "stream",
          "text": [
            "55\n"
          ],
          "name": "stdout"
        }
      ]
    },
    {
      "cell_type": "code",
      "metadata": {
        "id": "RfAoPad31EPj",
        "colab_type": "code",
        "colab": {
          "base_uri": "https://localhost:8080/",
          "height": 34
        },
        "outputId": "00b414d6-93fb-4650-eedb-394146d03c97"
      },
      "source": [
        "# the general rule to access a nth character will be s[n-1]\n",
        "# loops makes traversing better\n",
        "# print the first character through last character of a string\n",
        "print(s)"
      ],
      "execution_count": 18,
      "outputs": [
        {
          "output_type": "stream",
          "text": [
            "I am learning python 24/7\n"
          ],
          "name": "stdout"
        }
      ]
    },
    {
      "cell_type": "code",
      "metadata": {
        "id": "DJYgb8Az29HJ",
        "colab_type": "code",
        "colab": {
          "base_uri": "https://localhost:8080/",
          "height": 451
        },
        "outputId": "b6ef098f-e18f-480e-e04b-f61bc2dd5911"
      },
      "source": [
        "# second way is through printing every character of a string\n",
        "# first through last\n",
        "# using a loop\n",
        "for i in range(0,len(s)):\n",
        "  print(s[i])"
      ],
      "execution_count": 19,
      "outputs": [
        {
          "output_type": "stream",
          "text": [
            "I\n",
            " \n",
            "a\n",
            "m\n",
            " \n",
            "l\n",
            "e\n",
            "a\n",
            "r\n",
            "n\n",
            "i\n",
            "n\n",
            "g\n",
            " \n",
            "p\n",
            "y\n",
            "t\n",
            "h\n",
            "o\n",
            "n\n",
            " \n",
            "2\n",
            "4\n",
            "/\n",
            "7\n"
          ],
          "name": "stdout"
        }
      ]
    },
    {
      "cell_type": "code",
      "metadata": {
        "id": "7Zp-Qsb83OwY",
        "colab_type": "code",
        "colab": {}
      },
      "source": [
        ""
      ],
      "execution_count": 0,
      "outputs": []
    }
  ]
}